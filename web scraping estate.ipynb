{
 "cells": [
  {
   "cell_type": "code",
   "execution_count": 52,
   "id": "4b6145c5",
   "metadata": {},
   "outputs": [],
   "source": [
    "from bs4 import BeautifulSoup as bs\n",
    "import requests\n",
    "from csv import writer\n",
    "import pandas as pd"
   ]
  },
  {
   "cell_type": "code",
   "execution_count": 226,
   "id": "406507e8",
   "metadata": {},
   "outputs": [],
   "source": [
    "url=\"https://nigeriapropertycentre.com/for-sale/lagos/alimosho\""
   ]
  },
  {
   "cell_type": "code",
   "execution_count": null,
   "id": "44aeaafd",
   "metadata": {},
   "outputs": [],
   "source": []
  },
  {
   "cell_type": "code",
   "execution_count": 227,
   "id": "d7135ce7",
   "metadata": {},
   "outputs": [],
   "source": [
    "page=requests.get(url)"
   ]
  },
  {
   "cell_type": "code",
   "execution_count": null,
   "id": "7e76806d",
   "metadata": {},
   "outputs": [],
   "source": []
  },
  {
   "cell_type": "code",
   "execution_count": 228,
   "id": "6dca615a",
   "metadata": {},
   "outputs": [],
   "source": [
    "soup=bs(page.content,'html.parser')"
   ]
  },
  {
   "cell_type": "code",
   "execution_count": null,
   "id": "ae1e7bcc",
   "metadata": {},
   "outputs": [],
   "source": []
  },
  {
   "cell_type": "code",
   "execution_count": 229,
   "id": "0d8761b9",
   "metadata": {},
   "outputs": [],
   "source": [
    "lists=soup.find_all('div',class_=\"wp-block property list\")"
   ]
  },
  {
   "cell_type": "code",
   "execution_count": 232,
   "id": "94947d8b",
   "metadata": {},
   "outputs": [],
   "source": [
    "with open('estate.csv','a+', encoding='utf-8', newline='') as f:\n",
    "    thewriter=writer(f)\n",
    "    header=['Title','Description','Location','Date','Price','Marketed']\n",
    "    thewriter.writerow(header)\n",
    "    \n",
    "    for list in lists:\n",
    "        title=list.find('div',class_=\"wp-block-title hidden-xs\").text.replace('\\n','')\n",
    "        description=list.find('h4',class_=\"content-title\").text.replace('\\n','')\n",
    "        location=list.find('address',class_=\"voffset-bottom-10\").text.replace('\\n','')\n",
    "        date=list.find('span',class_=\"added-on\").text.replace('\\n','')\n",
    "        price=list.find('span', class_=\"pull-sm-left\").text.replace('\\n','')\n",
    "        marketed=list.find('span', class_=\"marketed-by pull-right hidden-xs hidden-sm text-right\").text.replace('\\n','')\n",
    "\n",
    "        info=[title, description, location, date, price, marketed]\n",
    "        \n",
    "        thewriter.writerow(info)\n",
    "    \n",
    "        "
   ]
  }
 ],
 "metadata": {
  "kernelspec": {
   "display_name": "Python 3",
   "language": "python",
   "name": "python3"
  },
  "language_info": {
   "codemirror_mode": {
    "name": "ipython",
    "version": 3
   },
   "file_extension": ".py",
   "mimetype": "text/x-python",
   "name": "python",
   "nbconvert_exporter": "python",
   "pygments_lexer": "ipython3",
   "version": "3.8.8"
  }
 },
 "nbformat": 4,
 "nbformat_minor": 5
}
